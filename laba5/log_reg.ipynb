{
  "nbformat": 4,
  "nbformat_minor": 0,
  "metadata": {
    "kernelspec": {
      "display_name": "Python 3",
      "language": "python",
      "name": "python3"
    },
    "language_info": {
      "codemirror_mode": {
        "name": "ipython",
        "version": 3
      },
      "file_extension": ".py",
      "mimetype": "text/x-python",
      "name": "python",
      "nbconvert_exporter": "python",
      "pygments_lexer": "ipython3",
      "version": "3.7.6"
    },
    "colab": {
      "name": "home_work.ipynb",
      "provenance": [],
      "toc_visible": true
    }
  },
  "cells": [
    {
      "cell_type": "code",
      "metadata": {
        "id": "RvNrlRRbaxCm"
      },
      "source": [
        "import numpy as np\n",
        "from numpy import linalg\n",
        "import matplotlib.pyplot as plt\n",
        "N = 100\n",
        "D = 2\n",
        "\n",
        "X = np.random.randn(N,D)\n",
        "ones = np.ones((N, 1))"
      ],
      "execution_count": 21,
      "outputs": []
    },
    {
      "cell_type": "markdown",
      "metadata": {
        "id": "CQuhhxl3axCm"
      },
      "source": [
        "# ================= часть 1 =========="
      ]
    },
    {
      "cell_type": "markdown",
      "metadata": {
        "id": "OOsjk_aSaxCm"
      },
      "source": [
        "# конкатенируйте в одной переменной X и ones "
      ]
    },
    {
      "cell_type": "code",
      "metadata": {
        "id": "zSoMDSH8axCm"
      },
      "source": [
        "X = np.column_stack((ones, X))"
      ],
      "execution_count": 22,
      "outputs": []
    },
    {
      "cell_type": "markdown",
      "metadata": {
        "id": "tyAVnNyIaxCn"
      },
      "source": [
        "# создайте случайный вектор весов w нужной размерности"
      ]
    },
    {
      "cell_type": "code",
      "metadata": {
        "id": "araq304EaxCn"
      },
      "source": [
        "w = np.random.randn(D + 1, 1)"
      ],
      "execution_count": 23,
      "outputs": []
    },
    {
      "cell_type": "code",
      "metadata": {
        "colab": {
          "base_uri": "https://localhost:8080/"
        },
        "id": "cSRh9tA0bqf4",
        "outputId": "1d58ff85-a52d-42fb-abe0-5db2de85f5f0"
      },
      "source": [
        "print(w.shape)\n",
        "print(X.shape)"
      ],
      "execution_count": 24,
      "outputs": [
        {
          "output_type": "stream",
          "text": [
            "(3, 1)\n",
            "(100, 3)\n"
          ],
          "name": "stdout"
        }
      ]
    },
    {
      "cell_type": "markdown",
      "metadata": {
        "id": "j0NBXbPYaxCn"
      },
      "source": [
        "# вычислите $z = w^Tx$"
      ]
    },
    {
      "cell_type": "code",
      "metadata": {
        "colab": {
          "base_uri": "https://localhost:8080/"
        },
        "id": "7eZFv47SaxCn",
        "outputId": "e82d6273-58b4-4884-9695-86e49cee1cc9"
      },
      "source": [
        "z = X @ w\n",
        "z.shape"
      ],
      "execution_count": 25,
      "outputs": [
        {
          "output_type": "execute_result",
          "data": {
            "text/plain": [
              "(100, 1)"
            ]
          },
          "metadata": {
            "tags": []
          },
          "execution_count": 25
        }
      ]
    },
    {
      "cell_type": "markdown",
      "metadata": {
        "id": "liwu4JapaxCn"
      },
      "source": [
        "# вычислите $\\sigma(z)$ (предварительно реализуйте функцию sigmoid)"
      ]
    },
    {
      "cell_type": "code",
      "metadata": {
        "id": "bZVCsQI-axCn"
      },
      "source": [
        "def sigmoid(z):\n",
        "  return 1/(1 + np.exp(-z))\n",
        "\n",
        "Y = sigmoid(z)"
      ],
      "execution_count": 26,
      "outputs": []
    },
    {
      "cell_type": "markdown",
      "metadata": {
        "id": "nQLBUsbNaxCn"
      },
      "source": [
        "# ================= часть 2 =========="
      ]
    },
    {
      "cell_type": "code",
      "metadata": {
        "id": "ZYrwEqlvaxCn"
      },
      "source": [
        "import numpy as np\n",
        "N = 100\n",
        "D = 2\n",
        "\n",
        "# генерация датасета\n",
        "\n",
        "np.random.seed(42)\n",
        "X = np.random.randn(N, D)\n",
        "ones = np.ones((N, 1))\n",
        "X[:50,:] = X[:50,:] - 2*np.ones((50,D))\n",
        "X[50:,:] = X[50:,:] + 2*np.ones((50,D))\n",
        "\n",
        "# метки из train set\n",
        "T = np.array([0]*50 + [1]*50)\n",
        "# данные из части 1\n",
        "ones = np.ones((N, 1))\n",
        "\n",
        "Xb = np.concatenate((ones, X), axis=1)\n",
        "\n",
        "w = np.random.randn(D + 1)\n",
        "\n",
        "z = Xb.dot(w)\n",
        "\n",
        "def sigmoid(z):\n",
        "    return 1/(1 + np.exp(-z))\n",
        "\n",
        "Y = sigmoid(z)"
      ],
      "execution_count": 27,
      "outputs": []
    },
    {
      "cell_type": "markdown",
      "metadata": {
        "id": "aelPtJkgaxCn"
      },
      "source": [
        "# реализуйте функцию: def cross_entropy(T, Y):"
      ]
    },
    {
      "cell_type": "code",
      "metadata": {
        "id": "9IxYZ47caxCn"
      },
      "source": [
        "def binary_cross_entropy(T, Y):\n",
        "  return -1 * np.array([t * np.log(y) + (1 - t) * np.log(1 - y) for t, y in zip(T, Y)]).mean()"
      ],
      "execution_count": 28,
      "outputs": []
    },
    {
      "cell_type": "code",
      "metadata": {
        "colab": {
          "base_uri": "https://localhost:8080/"
        },
        "id": "Ydnn080kaxCn",
        "outputId": "61f14674-d9e2-45b0-a39e-1f9ff3154f46"
      },
      "source": [
        "print(binary_cross_entropy(T, Y))"
      ],
      "execution_count": 29,
      "outputs": [
        {
          "output_type": "stream",
          "text": [
            "0.060301620601623994\n"
          ],
          "name": "stdout"
        }
      ]
    },
    {
      "cell_type": "markdown",
      "metadata": {
        "id": "7wr3ZuOjaxCn"
      },
      "source": [
        "## задайте веса с помощью точного решения [0,-4,-4]"
      ]
    },
    {
      "cell_type": "code",
      "metadata": {
        "colab": {
          "base_uri": "https://localhost:8080/"
        },
        "id": "hnUtyhdBaxCn",
        "outputId": "d31e9805-c7f0-4a70-f980-13c9b668344f"
      },
      "source": [
        "X0 = X[T == 0]\n",
        "X1 = X[T == 1]\n",
        "\n",
        "sigma = np.cov(X0.T)\n",
        "sigma[1][0] = 0\n",
        "sigma[0][1] = 0\n",
        "\n",
        "print(sigma)\n",
        "mu_1 = np.array([data.mean() for data in X0.T])\n",
        "mu_2 = np.array([data.mean() for data in X1.T])\n",
        "sigma_inv = linalg.inv(sigma)\n",
        "\n",
        "w = (mu_2 - mu_1) @ sigma_inv\n",
        "print(w)\n",
        "b = 1/2 * mu_1.T @ sigma_inv @ mu_1 - 1/2 * mu_2.T @ sigma_inv @ mu_2 + np.log( ( len(X0) / len(X) ) / (1 - ( len(X0) / len(X) ) ) )\n",
        "print(b)"
      ],
      "execution_count": 30,
      "outputs": [
        {
          "output_type": "stream",
          "text": [
            "[[0.69631545 0.        ]\n",
            " [0.         0.96798885]]\n",
            "[5.802288  4.3513719]\n",
            "0.5224933024235856\n"
          ],
          "name": "stdout"
        }
      ]
    },
    {
      "cell_type": "markdown",
      "metadata": {
        "id": "IombN8OzaxCn"
      },
      "source": [
        "# вычислите z и Y"
      ]
    },
    {
      "cell_type": "code",
      "metadata": {
        "id": "vtgEevMMaxCn"
      },
      "source": [
        "z = X.dot(w.T) + b\n",
        "Y = sigmoid(z)"
      ],
      "execution_count": 31,
      "outputs": []
    },
    {
      "cell_type": "markdown",
      "metadata": {
        "id": "e-4LMy6JaxCn"
      },
      "source": [
        "# вычислите cross_entropy(T, Y)"
      ]
    },
    {
      "cell_type": "code",
      "metadata": {
        "colab": {
          "base_uri": "https://localhost:8080/"
        },
        "id": "OHCqCOXkaxCn",
        "outputId": "d86ca926-47f6-4409-d59b-da9dc530e608"
      },
      "source": [
        "print(binary_cross_entropy(T, Y))"
      ],
      "execution_count": 32,
      "outputs": [
        {
          "output_type": "stream",
          "text": [
            "1.5288868989303075e-05\n"
          ],
          "name": "stdout"
        }
      ]
    },
    {
      "cell_type": "markdown",
      "metadata": {
        "id": "XNgQ7c__axCn"
      },
      "source": [
        "# ================ часть 3 =============="
      ]
    },
    {
      "cell_type": "code",
      "metadata": {
        "id": "PqMIXs2OaxCn",
        "colab": {
          "base_uri": "https://localhost:8080/",
          "height": 282
        },
        "outputId": "dc69dc8f-5195-48fb-cd98-277c95765fdf"
      },
      "source": [
        "import matplotlib.pyplot as plt\n",
        "plt.scatter(X[:,0], X[:,1], c=T)"
      ],
      "execution_count": 33,
      "outputs": [
        {
          "output_type": "execute_result",
          "data": {
            "text/plain": [
              "<matplotlib.collections.PathCollection at 0x7fdf76b4c668>"
            ]
          },
          "metadata": {
            "tags": []
          },
          "execution_count": 33
        },
        {
          "output_type": "display_data",
          "data": {
            "image/png": "[encoded data removed]",
            "text/plain": [
              "<Figure size 432x288 with 1 Axes>"
            ]
          },
          "metadata": {
            "tags": [],
            "needs_background": "light"
          }
        }
      ]
    },
    {
      "cell_type": "markdown",
      "metadata": {
        "id": "eT5YKDRKaxCn"
      },
      "source": [
        "# выполните 100 итераций градиентного спуска\n",
        "### $J = crossentr + \\frac{1}{2} \\alpha w^Tw$"
      ]
    },
    {
      "cell_type": "code",
      "metadata": {
        "id": "mi0IqPR_axCn"
      },
      "source": [
        "w = np.array([0, 1, 1])\n",
        "epochs = 100\n",
        "lr = 0.1\n",
        "for epoch in range(epochs):\n",
        "  pred = sigmoid(Xb.dot(w.T))\n",
        "  loss = binary_cross_entropy(T, pred)\n",
        "  w = w - lr * Xb.T @ (pred - T)"
      ],
      "execution_count": 34,
      "outputs": []
    },
    {
      "cell_type": "markdown",
      "metadata": {
        "id": "cx0q-yHYaxCn"
      },
      "source": [
        "# выведите новые веса w\n",
        "# нарисуйте датасет с границей (классификтором)"
      ]
    },
    {
      "cell_type": "code",
      "metadata": {
        "id": "vl33nc_-axCn",
        "colab": {
          "base_uri": "https://localhost:8080/"
        },
        "outputId": "95e6cc5f-a741-4508-bd25-3d08eeccf2a6"
      },
      "source": [
        "print(w)\n",
        "print(binary_cross_entropy(T, sigmoid(Xb.dot(w.T))))"
      ],
      "execution_count": 35,
      "outputs": [
        {
          "output_type": "stream",
          "text": [
            "[0.07612547 2.99941236 2.95035906]\n",
            "0.0005143453959422416\n"
          ],
          "name": "stdout"
        }
      ]
    },
    {
      "cell_type": "markdown",
      "metadata": {
        "id": "AWaVtSq9axCn"
      },
      "source": [
        "# =========== часть 4 =============\n",
        "# добавьте регуляризацию $L_2$"
      ]
    },
    {
      "cell_type": "code",
      "metadata": {
        "id": "SlHh_5xZaxCn"
      },
      "source": [
        "w = np.array([0, 1, 1])\n",
        "epochs = 100\n",
        "lr = 0.1\n",
        "r = 0.05\n",
        "for epoch in range(epochs):\n",
        "  pred = sigmoid(Xb.dot(w.T))\n",
        "  loss = binary_cross_entropy(T, pred) + 1/2 * r * w @ w.T / len(pred)\n",
        "  w = w - lr * (Xb.T @ (pred - T) + r * w / len(pred))"
      ],
      "execution_count": 41,
      "outputs": []
    },
    {
      "cell_type": "code",
      "metadata": {
        "id": "KYmPYo28skr8",
        "colab": {
          "base_uri": "https://localhost:8080/"
        },
        "outputId": "9a1a2c11-c3b1-45dd-f9fa-0c9e6197b34c"
      },
      "source": [
        "print(w)\n",
        "print(binary_cross_entropy(T, sigmoid(Xb.dot(w.T))))"
      ],
      "execution_count": 42,
      "outputs": [
        {
          "output_type": "stream",
          "text": [
            "[0.07595175 2.99212337 2.94310958]\n",
            "0.0005212297480260492\n"
          ],
          "name": "stdout"
        }
      ]
    },
    {
      "cell_type": "markdown",
      "metadata": {
        "id": "OjeFT3zvaxCn"
      },
      "source": [
        "# выведите новые веса w\n",
        "# нарисуйте датасет с границей (классификтором)"
      ]
    },
    {
      "cell_type": "code",
      "metadata": {
        "id": "6bCZZHyZyAjp"
      },
      "source": [
        "xx = np.linspace(-6, 6)\n",
        "b = w[0]/w[2]\n",
        "x1 = -w[1]/w[2]"
      ],
      "execution_count": 38,
      "outputs": []
    },
    {
      "cell_type": "code",
      "metadata": {
        "id": "oAzpEHnmaxCo",
        "colab": {
          "base_uri": "https://localhost:8080/",
          "height": 282
        },
        "outputId": "fec68106-76c9-4a57-e189-e2d4e28ec3bf"
      },
      "source": [
        "plt.scatter(X[:,0], X[:,1], c=T)\n",
        "\n",
        "yy = x1 * xx - b\n",
        "\n",
        "plt.plot(xx, yy, 'k-')"
      ],
      "execution_count": 39,
      "outputs": [
        {
          "output_type": "execute_result",
          "data": {
            "text/plain": [
              "[<matplotlib.lines.Line2D at 0x7fdf76aa7fd0>]"
            ]
          },
          "metadata": {
            "tags": []
          },
          "execution_count": 39
        },
        {
          "output_type": "display_data",
          "data": {
            "image/png": "[encoded data removed]",
            "text/plain": [
              "<Figure size 432x288 with 1 Axes>"
            ]
          },
          "metadata": {
            "tags": [],
            "needs_background": "light"
          }
        }
      ]
    }
  ]
}